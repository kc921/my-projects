{
 "cells": [
  {
   "cell_type": "code",
   "execution_count": 3,
   "id": "7109fae4",
   "metadata": {},
   "outputs": [],
   "source": [
    "import pandas as pd\n",
    "from matplotlib import pyplot as plt"
   ]
  },
  {
   "cell_type": "code",
   "execution_count": 4,
   "id": "36f011a3",
   "metadata": {
    "scrolled": false
   },
   "outputs": [
    {
     "name": "stdout",
     "output_type": "stream",
     "text": [
      "        country  year        pop        rgdpna\n",
      "0         Aruba  1950        NaN           NaN\n",
      "1         Aruba  1951        NaN           NaN\n",
      "2         Aruba  1952        NaN           NaN\n",
      "3         Aruba  1953        NaN           NaN\n",
      "4         Aruba  1954        NaN           NaN\n",
      "...         ...   ...        ...           ...\n",
      "12805  Zimbabwe  2015  13.814629  42008.199219\n",
      "12806  Zimbabwe  2016  14.030331  42325.726562\n",
      "12807  Zimbabwe  2017  14.236595  44316.742188\n",
      "12808  Zimbabwe  2018  14.438802  46457.097656\n",
      "12809  Zimbabwe  2019  14.645468  42694.070312\n",
      "\n",
      "[12810 rows x 4 columns]\n"
     ]
    }
   ],
   "source": [
    "df = pd.read_excel(\"pwt100.xlsx\",usecols=\"B,D,G,S\")\n",
    "print(df)"
   ]
  },
  {
   "cell_type": "code",
   "execution_count": 5,
   "id": "e149b1e6",
   "metadata": {},
   "outputs": [
    {
     "name": "stdout",
     "output_type": "stream",
     "text": [
      "        country  year        pop        rgdpna  real_gdp_per_capita\n",
      "0         Aruba  1950        NaN           NaN                  NaN\n",
      "1         Aruba  1951        NaN           NaN                  NaN\n",
      "2         Aruba  1952        NaN           NaN                  NaN\n",
      "3         Aruba  1953        NaN           NaN                  NaN\n",
      "4         Aruba  1954        NaN           NaN                  NaN\n",
      "...         ...   ...        ...           ...                  ...\n",
      "12805  Zimbabwe  2015  13.814629  42008.199219          3040.848887\n",
      "12806  Zimbabwe  2016  14.030331  42325.726562          3016.730437\n",
      "12807  Zimbabwe  2017  14.236595  44316.742188          3112.875107\n",
      "12808  Zimbabwe  2018  14.438802  46457.097656          3217.517468\n",
      "12809  Zimbabwe  2019  14.645468  42694.070312          2915.172824\n",
      "\n",
      "[12810 rows x 5 columns]\n"
     ]
    }
   ],
   "source": [
    "df['real_gdp_per_capita']=df['rgdpna']/df['pop']\n",
    "print(df)"
   ]
  },
  {
   "cell_type": "code",
   "execution_count": 6,
   "id": "058b6fda",
   "metadata": {},
   "outputs": [
    {
     "name": "stdout",
     "output_type": "stream",
     "text": [
      "             country  year         pop       rgdpna  real_gdp_per_capita\n",
      "12110  United States  1950  155.583973   2466594.75         15853.784313\n",
      "12111  United States  1951  158.247704   2665368.00         16843.012158\n",
      "12112  United States  1952  160.980892   2773902.75         17231.254725\n",
      "12113  United States  1953  163.669147   2904121.75         17743.855859\n",
      "12114  United States  1954  166.572976   2887745.25         17336.216984\n",
      "...              ...   ...         ...          ...                  ...\n",
      "12175  United States  2015  320.878310  18776158.00         58514.886843\n",
      "12176  United States  2016  323.015995  19097498.00         59122.453054\n",
      "12177  United States  2017  325.084756  19542980.00         60116.568493\n",
      "12178  United States  2018  327.096265  20128580.00         61537.174691\n",
      "12179  United States  2019  329.064917  20563592.00         62490.988670\n",
      "\n",
      "[70 rows x 5 columns]\n"
     ]
    }
   ],
   "source": [
    "us=df[df.country=='United States']\n",
    "print(us)"
   ]
  },
  {
   "cell_type": "code",
   "execution_count": 7,
   "id": "a5b7f638",
   "metadata": {},
   "outputs": [
    {
     "name": "stdout",
     "output_type": "stream",
     "text": [
      "     country  year          pop        rgdpna  real_gdp_per_capita\n",
      "2310   China  1950          NaN           NaN                  NaN\n",
      "2311   China  1951          NaN           NaN                  NaN\n",
      "2312   China  1952   579.577178  5.574683e+05           961.853458\n",
      "2313   China  1953   589.316981  6.304671e+05          1069.826843\n",
      "2314   China  1954   599.942909  5.867514e+05           978.012018\n",
      "...      ...   ...          ...           ...                  ...\n",
      "2375   China  2015  1406.847870  1.837937e+07         13064.217100\n",
      "2376   China  2016  1414.049351  1.913242e+07         13530.232157\n",
      "2377   China  2017  1421.021791  1.968716e+07         13854.229488\n",
      "2378   China  2018  1427.647786  1.984130e+07         13897.892880\n",
      "2379   China  2019  1433.783686  2.057261e+07         14348.472647\n",
      "\n",
      "[70 rows x 5 columns]\n"
     ]
    }
   ],
   "source": [
    "chn=df[df.country=='China']\n",
    "print(chn)"
   ]
  },
  {
   "cell_type": "code",
   "execution_count": 8,
   "id": "8715823c",
   "metadata": {},
   "outputs": [
    {
     "name": "stdout",
     "output_type": "stream",
     "text": [
      "      country  year        pop        rgdpna  real_gdp_per_capita\n",
      "11760  Taiwan  1950        NaN           NaN                  NaN\n",
      "11761  Taiwan  1951   7.758202  9.247629e+03          1191.980939\n",
      "11762  Taiwan  1952   8.046915  1.035769e+04          1287.162655\n",
      "11763  Taiwan  1953   8.333009  1.134104e+04          1360.978126\n",
      "11764  Taiwan  1954   8.645264  1.243442e+04          1438.293244\n",
      "...       ...   ...        ...           ...                  ...\n",
      "11825  Taiwan  2015  23.462914  1.012657e+06         43159.915047\n",
      "11826  Taiwan  2016  23.515945  1.034582e+06         43994.933544\n",
      "11827  Taiwan  2017  23.555522  1.068841e+06         45375.406030\n",
      "11828  Taiwan  2018  23.580080  1.098184e+06         46572.514809\n",
      "11829  Taiwan  2019  23.596027  1.127989e+06         47804.181187\n",
      "\n",
      "[70 rows x 5 columns]\n"
     ]
    }
   ],
   "source": [
    "tw=df[df.country=='Taiwan']\n",
    "print(tw)"
   ]
  },
  {
   "cell_type": "code",
   "execution_count": 13,
   "id": "789d2c36",
   "metadata": {
    "scrolled": true
   },
   "outputs": [
    {
     "data": {
      "text/plain": [
       "12110    100.000000\n",
       "12111    106.239695\n",
       "12112    108.688591\n",
       "12113    111.921895\n",
       "12114    109.350655\n",
       "            ...    \n",
       "12175    369.090973\n",
       "12176    372.923284\n",
       "12177    379.193808\n",
       "12178    388.154484\n",
       "12179    394.170801\n",
       "Name: real_gdp_per_capita, Length: 70, dtype: float64"
      ]
     },
     "execution_count": 13,
     "metadata": {},
     "output_type": "execute_result"
    }
   ],
   "source": [
    "#us.real_gdp_per_capita/ us.real_gdp_per_capita.iloc[0]*100"
   ]
  },
  {
   "cell_type": "code",
   "execution_count": 18,
   "id": "43d5085f",
   "metadata": {},
   "outputs": [
    {
     "data": {
      "text/plain": [
       "11760            NaN\n",
       "11761     100.000000\n",
       "11762     107.985171\n",
       "11763     114.177843\n",
       "11764     120.664114\n",
       "            ...     \n",
       "11825    3620.856142\n",
       "11826    3690.909149\n",
       "11827    3806.722452\n",
       "11828    3907.152646\n",
       "11829    4010.482015\n",
       "Name: real_gdp_per_capita, Length: 70, dtype: float64"
      ]
     },
     "execution_count": 18,
     "metadata": {},
     "output_type": "execute_result"
    }
   ],
   "source": [
    "#tw.real_gdp_per_capita/ tw.real_gdp_per_capita.iloc[1]*100"
   ]
  },
  {
   "cell_type": "code",
   "execution_count": 19,
   "id": "219852cd",
   "metadata": {},
   "outputs": [
    {
     "data": {
      "text/plain": [
       "2310            NaN\n",
       "2311            NaN\n",
       "2312     100.000000\n",
       "2313     111.225555\n",
       "2314     101.679940\n",
       "           ...     \n",
       "2375    1358.233626\n",
       "2376    1406.683320\n",
       "2377    1440.368007\n",
       "2378    1444.907513\n",
       "2379    1491.752462\n",
       "Name: real_gdp_per_capita, Length: 70, dtype: float64"
      ]
     },
     "execution_count": 19,
     "metadata": {},
     "output_type": "execute_result"
    }
   ],
   "source": [
    "#chn.real_gdp_per_capita/ chn.real_gdp_per_capita.iloc[2]*100"
   ]
  },
  {
   "cell_type": "code",
   "execution_count": 24,
   "id": "b2d0c2c1",
   "metadata": {},
   "outputs": [
    {
     "data": {
      "image/png": "[encoded data removed]",
      "text/plain": [
       "<Figure size 432x288 with 1 Axes>"
      ]
     },
     "metadata": {
      "needs_background": "light"
     },
     "output_type": "display_data"
    }
   ],
   "source": [
    "'''\n",
    "plt.plot(us.year,us.real_gdp_per_capita/ us.real_gdp_per_capita.iloc[0]*100,linestyle = '--')\n",
    "plt.plot(tw.year,tw.real_gdp_per_capita/ tw.real_gdp_per_capita.iloc[1]*100,linestyle = '-')\n",
    "plt.plot(chn.year,chn.real_gdp_per_capita/ chn.real_gdp_per_capita.iloc[2]*100,linestyle = ':')\n",
    "plt.legend(['US','Taiwan','China'])\n",
    "plt.xlabel('year')\n",
    "plt.ylabel('real gpd per capita')\n",
    "plt.show()\n",
    "'''"
   ]
  },
  {
   "cell_type": "code",
   "execution_count": 25,
   "id": "6f86ad34",
   "metadata": {},
   "outputs": [
    {
     "data": {
      "image/png": "[encoded data removed]",
      "text/plain": [
       "<Figure size 432x288 with 1 Axes>"
      ]
     },
     "metadata": {
      "needs_background": "light"
     },
     "output_type": "display_data"
    }
   ],
   "source": [
    "plt.plot(us.year,us.real_gdp_per_capita,linestyle = '--')\n",
    "plt.plot(tw.year,tw.real_gdp_per_capita,linestyle = '-')\n",
    "plt.plot(chn.year,chn.real_gdp_per_capita,linestyle = ':')\n",
    "plt.legend(['US','Taiwan','China'])\n",
    "plt.xlabel('year')\n",
    "plt.ylabel('real gpd per capita')\n",
    "plt.show()"
   ]
  },
  {
   "cell_type": "code",
   "execution_count": null,
   "id": "f230f028",
   "metadata": {},
   "outputs": [],
   "source": []
  }
 ],
 "metadata": {
  "kernelspec": {
   "display_name": "Python 3 (ipykernel)",
   "language": "python",
   "name": "python3"
  },
  "language_info": {
   "codemirror_mode": {
    "name": "ipython",
    "version": 3
   },
   "file_extension": ".py",
   "mimetype": "text/x-python",
   "name": "python",
   "nbconvert_exporter": "python",
   "pygments_lexer": "ipython3",
   "version": "3.9.7"
  }
 },
 "nbformat": 4,
 "nbformat_minor": 5
}
